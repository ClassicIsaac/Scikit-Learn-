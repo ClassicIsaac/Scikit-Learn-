{
 "cells": [
  {
   "cell_type": "markdown",
   "id": "e675193a",
   "metadata": {},
   "source": [
    "## Import the dependencies"
   ]
  },
  {
   "cell_type": "code",
   "execution_count": 1,
   "id": "15eec51b",
   "metadata": {},
   "outputs": [],
   "source": [
    "import pandas as pd #for data manipulation\n",
    "from sklearn.feature_extraction.text import TfidfVectorizer #for vectorizing text data\n",
    "from sklearn.naive_bayes import MultinomialNB #for Naive Bayes classification\n",
    "from sklearn.model_selection import train_test_split #to split data into training and testing sets\n",
    "from sklearn.pipeline import make_pipeline #to chain preprocessing and classification steps\n",
    "from sklearn.metrics import classification_report, roc_auc_score #import evaluation metrics\n",
    "from sklearn.metrics import accuracy_score"
   ]
  },
  {
   "cell_type": "markdown",
   "id": "05cfe9b0",
   "metadata": {},
   "source": [
    "## Data collection and pre-processing"
   ]
  },
  {
   "cell_type": "code",
   "execution_count": 2,
   "id": "8783028f",
   "metadata": {},
   "outputs": [],
   "source": [
    "#loading the data from csv file to a pandas DataFrame\n",
    "mail=pd.read_csv(\"mail_data.csv\")"
   ]
  },
  {
   "cell_type": "code",
   "execution_count": 3,
   "id": "9e4a43c9",
   "metadata": {},
   "outputs": [
    {
     "data": {
      "text/html": [
       "<div>\n",
       "<style scoped>\n",
       "    .dataframe tbody tr th:only-of-type {\n",
       "        vertical-align: middle;\n",
       "    }\n",
       "\n",
       "    .dataframe tbody tr th {\n",
       "        vertical-align: top;\n",
       "    }\n",
       "\n",
       "    .dataframe thead th {\n",
       "        text-align: right;\n",
       "    }\n",
       "</style>\n",
       "<table border=\"1\" class=\"dataframe\">\n",
       "  <thead>\n",
       "    <tr style=\"text-align: right;\">\n",
       "      <th></th>\n",
       "      <th>Category</th>\n",
       "      <th>Message</th>\n",
       "    </tr>\n",
       "  </thead>\n",
       "  <tbody>\n",
       "    <tr>\n",
       "      <th>0</th>\n",
       "      <td>ham</td>\n",
       "      <td>Go until jurong point, crazy.. Available only ...</td>\n",
       "    </tr>\n",
       "    <tr>\n",
       "      <th>1</th>\n",
       "      <td>ham</td>\n",
       "      <td>Ok lar... Joking wif u oni...</td>\n",
       "    </tr>\n",
       "    <tr>\n",
       "      <th>2</th>\n",
       "      <td>spam</td>\n",
       "      <td>Free entry in 2 a wkly comp to win FA Cup fina...</td>\n",
       "    </tr>\n",
       "    <tr>\n",
       "      <th>3</th>\n",
       "      <td>ham</td>\n",
       "      <td>U dun say so early hor... U c already then say...</td>\n",
       "    </tr>\n",
       "    <tr>\n",
       "      <th>4</th>\n",
       "      <td>ham</td>\n",
       "      <td>Nah I don't think he goes to usf, he lives aro...</td>\n",
       "    </tr>\n",
       "  </tbody>\n",
       "</table>\n",
       "</div>"
      ],
      "text/plain": [
       "  Category                                            Message\n",
       "0      ham  Go until jurong point, crazy.. Available only ...\n",
       "1      ham                      Ok lar... Joking wif u oni...\n",
       "2     spam  Free entry in 2 a wkly comp to win FA Cup fina...\n",
       "3      ham  U dun say so early hor... U c already then say...\n",
       "4      ham  Nah I don't think he goes to usf, he lives aro..."
      ]
     },
     "execution_count": 3,
     "metadata": {},
     "output_type": "execute_result"
    }
   ],
   "source": [
    "#print the first 5 rows of the DataFrame\n",
    "mail.head()"
   ]
  },
  {
   "cell_type": "code",
   "execution_count": 4,
   "id": "c30727f6",
   "metadata": {},
   "outputs": [
    {
     "data": {
      "text/plain": [
       "Category    0\n",
       "Message     0\n",
       "dtype: int64"
      ]
     },
     "execution_count": 4,
     "metadata": {},
     "output_type": "execute_result"
    }
   ],
   "source": [
    "#check for null values in the DataFrame\n",
    "mail.isnull().sum()"
   ]
  },
  {
   "cell_type": "code",
   "execution_count": 5,
   "id": "c11a793a",
   "metadata": {},
   "outputs": [],
   "source": [
    "#label spam mail as 0; ham mail as 1;\n",
    "mail[\"Category\"]=mail[\"Category\"].map({\"ham\":1,\"spam\":0})"
   ]
  },
  {
   "cell_type": "code",
   "execution_count": 6,
   "id": "697a1e46",
   "metadata": {},
   "outputs": [],
   "source": [
    "#create input variable X containing the email text\n",
    "X=mail[\"Message\"]\n",
    "#create target variable y containing the label (spam or ham)\n",
    "y=mail[\"Category\"]"
   ]
  },
  {
   "cell_type": "markdown",
   "id": "cf386f6c",
   "metadata": {},
   "source": [
    "#### Instantiate pre-processors"
   ]
  },
  {
   "cell_type": "code",
   "execution_count": 7,
   "id": "5f472f0b",
   "metadata": {},
   "outputs": [],
   "source": [
    "# instantiate a TfidfVectorizer object\n",
    "vect=TfidfVectorizer(min_df=5,stop_words=\"english\",lowercase=\"True\")\n",
    "#instantiate a MultinomialNB object for classification\n",
    "clf=MultinomialNB()"
   ]
  },
  {
   "cell_type": "code",
   "execution_count": 8,
   "id": "5f15aabd",
   "metadata": {},
   "outputs": [],
   "source": [
    "#create a pipeline that chains the preprocessing and classification steps\n",
    "pipe=make_pipeline(vect,clf)"
   ]
  },
  {
   "cell_type": "markdown",
   "id": "b11096b7",
   "metadata": {},
   "source": [
    "## Split data into training and testing set"
   ]
  },
  {
   "cell_type": "code",
   "execution_count": 9,
   "id": "6d559a06",
   "metadata": {},
   "outputs": [],
   "source": [
    "#Using stratification to ensure balanced classes\n",
    "X_train,X_test,y_train,y_test=train_test_split(X,y,stratify=y,test_size=0.4,random_state=42)"
   ]
  },
  {
   "cell_type": "code",
   "execution_count": 10,
   "id": "edcee3d9",
   "metadata": {},
   "outputs": [
    {
     "name": "stdout",
     "output_type": "stream",
     "text": [
      "(3343,) (2229,) (3343,) (2229,)\n"
     ]
    }
   ],
   "source": [
    "print(X_train.shape,X_test.shape,y_train.shape,y_test.shape)"
   ]
  },
  {
   "cell_type": "markdown",
   "id": "03e72f61",
   "metadata": {},
   "source": [
    "## Model training and prediction"
   ]
  },
  {
   "cell_type": "code",
   "execution_count": 11,
   "id": "9a8489fb",
   "metadata": {},
   "outputs": [
    {
     "data": {
      "text/plain": [
       "Pipeline(steps=[('tfidfvectorizer',\n",
       "                 TfidfVectorizer(lowercase='True', min_df=5,\n",
       "                                 stop_words='english')),\n",
       "                ('multinomialnb', MultinomialNB())])"
      ]
     },
     "execution_count": 11,
     "metadata": {},
     "output_type": "execute_result"
    }
   ],
   "source": [
    "#Train the model on the training set using the fit() method\n",
    "pipe.fit(X_train,y_train)"
   ]
  },
  {
   "cell_type": "code",
   "execution_count": 12,
   "id": "b3fb2d51",
   "metadata": {},
   "outputs": [
    {
     "name": "stdout",
     "output_type": "stream",
     "text": [
      "Train accuracy_score: 0.9877355668561173\n"
     ]
    }
   ],
   "source": [
    "#Predict the labels for the training set\n",
    "y_train_pred=pipe.predict(X_train)\n",
    "#Evaluate the accuracy of the model on the training set\n",
    "train_accuracy=accuracy_score(y_train,y_train_pred)\n",
    "print(f\"Train accuracy_score: {train_accuracy}\")"
   ]
  },
  {
   "cell_type": "code",
   "execution_count": 13,
   "id": "08237ce6",
   "metadata": {},
   "outputs": [
    {
     "name": "stdout",
     "output_type": "stream",
     "text": [
      "Train accuracy_score: 0.9753252579632122\n"
     ]
    }
   ],
   "source": [
    "#Predict the labels for the testing set\n",
    "y_test_pred=pipe.predict(X_test)\n",
    "#Evaluate the accuracy of the model on the testing set\n",
    "test_accuracy=accuracy_score(y_test,y_test_pred)\n",
    "print(f\"Train accuracy_score: {test_accuracy}\")"
   ]
  },
  {
   "cell_type": "code",
   "execution_count": 14,
   "id": "ec482724",
   "metadata": {},
   "outputs": [
    {
     "data": {
      "text/html": [
       "<div>\n",
       "<style scoped>\n",
       "    .dataframe tbody tr th:only-of-type {\n",
       "        vertical-align: middle;\n",
       "    }\n",
       "\n",
       "    .dataframe tbody tr th {\n",
       "        vertical-align: top;\n",
       "    }\n",
       "\n",
       "    .dataframe thead th {\n",
       "        text-align: right;\n",
       "    }\n",
       "</style>\n",
       "<table border=\"1\" class=\"dataframe\">\n",
       "  <thead>\n",
       "    <tr style=\"text-align: right;\">\n",
       "      <th></th>\n",
       "      <th>precision</th>\n",
       "      <th>recall</th>\n",
       "      <th>f1-score</th>\n",
       "      <th>support</th>\n",
       "    </tr>\n",
       "  </thead>\n",
       "  <tbody>\n",
       "    <tr>\n",
       "      <th>0</th>\n",
       "      <td>1.000000</td>\n",
       "      <td>0.908482</td>\n",
       "      <td>0.952047</td>\n",
       "      <td>448.000000</td>\n",
       "    </tr>\n",
       "    <tr>\n",
       "      <th>1</th>\n",
       "      <td>0.986035</td>\n",
       "      <td>1.000000</td>\n",
       "      <td>0.992969</td>\n",
       "      <td>2895.000000</td>\n",
       "    </tr>\n",
       "    <tr>\n",
       "      <th>accuracy</th>\n",
       "      <td>0.987736</td>\n",
       "      <td>0.987736</td>\n",
       "      <td>0.987736</td>\n",
       "      <td>0.987736</td>\n",
       "    </tr>\n",
       "    <tr>\n",
       "      <th>macro avg</th>\n",
       "      <td>0.993018</td>\n",
       "      <td>0.954241</td>\n",
       "      <td>0.972508</td>\n",
       "      <td>3343.000000</td>\n",
       "    </tr>\n",
       "    <tr>\n",
       "      <th>weighted avg</th>\n",
       "      <td>0.987907</td>\n",
       "      <td>0.987736</td>\n",
       "      <td>0.987485</td>\n",
       "      <td>3343.000000</td>\n",
       "    </tr>\n",
       "  </tbody>\n",
       "</table>\n",
       "</div>"
      ],
      "text/plain": [
       "              precision    recall  f1-score      support\n",
       "0              1.000000  0.908482  0.952047   448.000000\n",
       "1              0.986035  1.000000  0.992969  2895.000000\n",
       "accuracy       0.987736  0.987736  0.987736     0.987736\n",
       "macro avg      0.993018  0.954241  0.972508  3343.000000\n",
       "weighted avg   0.987907  0.987736  0.987485  3343.000000"
      ]
     },
     "execution_count": 14,
     "metadata": {},
     "output_type": "execute_result"
    }
   ],
   "source": [
    "#Generate a classification report for the training set\n",
    "train_class_report=classification_report(y_train, y_train_pred,output_dict=True)\n",
    "pd.DataFrame(train_class_report).transpose()"
   ]
  },
  {
   "cell_type": "code",
   "execution_count": 15,
   "id": "f96026d8",
   "metadata": {},
   "outputs": [
    {
     "data": {
      "text/html": [
       "<div>\n",
       "<style scoped>\n",
       "    .dataframe tbody tr th:only-of-type {\n",
       "        vertical-align: middle;\n",
       "    }\n",
       "\n",
       "    .dataframe tbody tr th {\n",
       "        vertical-align: top;\n",
       "    }\n",
       "\n",
       "    .dataframe thead th {\n",
       "        text-align: right;\n",
       "    }\n",
       "</style>\n",
       "<table border=\"1\" class=\"dataframe\">\n",
       "  <thead>\n",
       "    <tr style=\"text-align: right;\">\n",
       "      <th></th>\n",
       "      <th>precision</th>\n",
       "      <th>recall</th>\n",
       "      <th>f1-score</th>\n",
       "      <th>support</th>\n",
       "    </tr>\n",
       "  </thead>\n",
       "  <tbody>\n",
       "    <tr>\n",
       "      <th>0</th>\n",
       "      <td>0.980315</td>\n",
       "      <td>0.832776</td>\n",
       "      <td>0.900542</td>\n",
       "      <td>299.000000</td>\n",
       "    </tr>\n",
       "    <tr>\n",
       "      <th>1</th>\n",
       "      <td>0.974684</td>\n",
       "      <td>0.997409</td>\n",
       "      <td>0.985915</td>\n",
       "      <td>1930.000000</td>\n",
       "    </tr>\n",
       "    <tr>\n",
       "      <th>accuracy</th>\n",
       "      <td>0.975325</td>\n",
       "      <td>0.975325</td>\n",
       "      <td>0.975325</td>\n",
       "      <td>0.975325</td>\n",
       "    </tr>\n",
       "    <tr>\n",
       "      <th>macro avg</th>\n",
       "      <td>0.977499</td>\n",
       "      <td>0.915093</td>\n",
       "      <td>0.943229</td>\n",
       "      <td>2229.000000</td>\n",
       "    </tr>\n",
       "    <tr>\n",
       "      <th>weighted avg</th>\n",
       "      <td>0.975439</td>\n",
       "      <td>0.975325</td>\n",
       "      <td>0.974463</td>\n",
       "      <td>2229.000000</td>\n",
       "    </tr>\n",
       "  </tbody>\n",
       "</table>\n",
       "</div>"
      ],
      "text/plain": [
       "              precision    recall  f1-score      support\n",
       "0              0.980315  0.832776  0.900542   299.000000\n",
       "1              0.974684  0.997409  0.985915  1930.000000\n",
       "accuracy       0.975325  0.975325  0.975325     0.975325\n",
       "macro avg      0.977499  0.915093  0.943229  2229.000000\n",
       "weighted avg   0.975439  0.975325  0.974463  2229.000000"
      ]
     },
     "execution_count": 15,
     "metadata": {},
     "output_type": "execute_result"
    }
   ],
   "source": [
    "#Generate a classification report for the testing set\n",
    "test_class_report=classification_report(y_test, y_test_pred,output_dict=True)\n",
    "pd.DataFrame(test_class_report).transpose()"
   ]
  },
  {
   "cell_type": "code",
   "execution_count": null,
   "id": "b15bb83e",
   "metadata": {},
   "outputs": [],
   "source": []
  }
 ],
 "metadata": {
  "kernelspec": {
   "display_name": "Python 3 (ipykernel)",
   "language": "python",
   "name": "python3"
  },
  "language_info": {
   "codemirror_mode": {
    "name": "ipython",
    "version": 3
   },
   "file_extension": ".py",
   "mimetype": "text/x-python",
   "name": "python",
   "nbconvert_exporter": "python",
   "pygments_lexer": "ipython3",
   "version": "3.9.12"
  }
 },
 "nbformat": 4,
 "nbformat_minor": 5
}
